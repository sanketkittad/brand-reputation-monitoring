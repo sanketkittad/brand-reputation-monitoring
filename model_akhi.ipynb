{
 "cells": [
  {
   "cell_type": "code",
   "execution_count": 18,
   "metadata": {},
   "outputs": [],
   "source": [
    "import os\n",
    "import pandas as pd\n",
    "from vaderSentiment.vaderSentiment import SentimentIntensityAnalyzer\n",
    "\n",
    "# Initialize Sentiment analyzer\n",
    "analyzer = SentimentIntensityAnalyzer() \n",
    "\n",
    "def calculate_sentiment(text):\n",
    "    \"\"\"Calculates sentiment using VADER. Add preprocessing if needed\"\"\"\n",
    "    score = analyzer.polarity_scores(text)['compound']  \n",
    "    return score\n",
    "\n",
    "def process_data(apple_path, samsung_path):\n",
    "    results = []\n",
    "    for filename in os.listdir(apple_path) + os.listdir(samsung_path): \n",
    "        if filename.startswith('a_'):\n",
    "            brand = 'apple'\n",
    "        elif filename.startswith('s_'):\n",
    "            brand = 'samsung'\n",
    "        else:\n",
    "            continue  \n",
    "\n",
    "        # Extract date from filename (dd-mm-yyyy format)\n",
    "        date_str = filename.split('_')[2] + \"-\" + filename.split('_')[1] + \"-\" + filename.split('_')[3].split('.')[0] \n",
    "\n",
    "        # Reformat date for sorting  (mm-dd-yyyy)\n",
    "        mmddyyyy_date_str = date_str[3:5] + \"-\" + date_str[:2] + \"-\" + date_str[6:]\n",
    "\n",
    "        filepath = os.path.join(apple_path if brand == 'apple' else samsung_path, filename)\n",
    "        df = pd.read_csv(filepath)\n",
    "\n",
    "        # Calculate daily sentiment \n",
    "        daily_sentiment = df['tweet_text_element'].apply(calculate_sentiment).mean()\n",
    "\n",
    "        # Find or create the matching date entry \n",
    "        existing_entry = next((item for item in results if item['day'] == mmddyyyy_date_str), None) \n",
    "        if existing_entry:\n",
    "            existing_entry[f'{brand}_sentiment'] = daily_sentiment\n",
    "        else:   \n",
    "            results.append({\n",
    "                'day': mmddyyyy_date_str,  \n",
    "                f'{brand}_sentiment': daily_sentiment \n",
    "            })\n",
    "\n",
    "    # Sort after processing all files \n",
    "    results.sort(key=lambda item: item['day'])  \n",
    "\n",
    "    return pd.DataFrame(results)\n",
    "\n",
    "# Example usage with the specific paths\n",
    "apple_path = 'Apple'\n",
    "samsung_path = 'Samsung'\n",
    "df = process_data(apple_path, samsung_path)\n",
    "df.to_csv('sentiment_analysis_results.csv', index=False, date_format='%m-%d-%Y')  # index=False to avoid an extra index column\n",
    "\n"
   ]
  },
  {
   "cell_type": "code",
   "execution_count": null,
   "metadata": {},
   "outputs": [],
   "source": []
  }
 ],
 "metadata": {
  "kernelspec": {
   "display_name": "Python 3",
   "language": "python",
   "name": "python3"
  },
  "language_info": {
   "codemirror_mode": {
    "name": "ipython",
    "version": 3
   },
   "file_extension": ".py",
   "mimetype": "text/x-python",
   "name": "python",
   "nbconvert_exporter": "python",
   "pygments_lexer": "ipython3",
   "version": "3.12.1"
  }
 },
 "nbformat": 4,
 "nbformat_minor": 2
}
